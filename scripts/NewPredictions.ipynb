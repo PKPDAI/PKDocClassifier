{
 "cells": [
  {
   "cell_type": "code",
   "execution_count": 1,
   "metadata": {},
   "outputs": [],
   "source": [
    "import pandas as pd\n",
    "import joblib"
   ]
  },
  {
   "cell_type": "code",
   "execution_count": 2,
   "metadata": {},
   "outputs": [],
   "source": [
    "data = pd.read_csv('../data/examples/to_classify.csv').reset_index(drop=True)"
   ]
  },
  {
   "cell_type": "code",
   "execution_count": 3,
   "metadata": {},
   "outputs": [],
   "source": [
    "\n",
    "data['pmid'] = data['pmid'].fillna(0).astype(int)"
   ]
  },
  {
   "cell_type": "code",
   "execution_count": 4,
   "metadata": {},
   "outputs": [],
   "source": [
    "data = data.fillna('')"
   ]
  },
  {
   "cell_type": "code",
   "execution_count": 5,
   "metadata": {},
   "outputs": [
    {
     "data": {
      "text/html": [
       "<div>\n",
       "<style scoped>\n",
       "    .dataframe tbody tr th:only-of-type {\n",
       "        vertical-align: middle;\n",
       "    }\n",
       "\n",
       "    .dataframe tbody tr th {\n",
       "        vertical-align: top;\n",
       "    }\n",
       "\n",
       "    .dataframe thead th {\n",
       "        text-align: right;\n",
       "    }\n",
       "</style>\n",
       "<table border=\"1\" class=\"dataframe\">\n",
       "  <thead>\n",
       "    <tr style=\"text-align: right;\">\n",
       "      <th></th>\n",
       "      <th>abstract</th>\n",
       "      <th>mesh_terms</th>\n",
       "      <th>publication_types</th>\n",
       "      <th>title</th>\n",
       "      <th>pmid</th>\n",
       "    </tr>\n",
       "  </thead>\n",
       "  <tbody>\n",
       "    <tr>\n",
       "      <th>0</th>\n",
       "      <td>Rituximab, an anti-CD20 monoclonal antibody, i...</td>\n",
       "      <td></td>\n",
       "      <td>D016454:Review</td>\n",
       "      <td>Pharmacokinetics, efficacy and safety of the r...</td>\n",
       "      <td>28766389</td>\n",
       "    </tr>\n",
       "    <tr>\n",
       "      <th>1</th>\n",
       "      <td>Background: Biosimilars are highly similar to ...</td>\n",
       "      <td></td>\n",
       "      <td>'D016430:Clinical Trial; D016428:Journal Article'</td>\n",
       "      <td>A Randomized, Double-Blind, Efficacy and Safet...</td>\n",
       "      <td>31820339</td>\n",
       "    </tr>\n",
       "    <tr>\n",
       "      <th>2</th>\n",
       "      <td>AIMS: Rituximab is standard care in a number o...</td>\n",
       "      <td></td>\n",
       "      <td>'D016430:Clinical Trial; D016428:Journal Artic...</td>\n",
       "      <td>Pharmacokinetics, exposure, efficacy and safet...</td>\n",
       "      <td>31050355</td>\n",
       "    </tr>\n",
       "    <tr>\n",
       "      <th>3</th>\n",
       "      <td>BACKGROUND: Studies in patients with rheumatoi...</td>\n",
       "      <td></td>\n",
       "      <td>'D016430:Clinical Trial; D016428:Journal Artic...</td>\n",
       "      <td>Efficacy, pharmacokinetics, and safety of the ...</td>\n",
       "      <td>28712940</td>\n",
       "    </tr>\n",
       "    <tr>\n",
       "      <th>4</th>\n",
       "      <td>Rituximab, a chimeric monoclonal antibody targ...</td>\n",
       "      <td></td>\n",
       "      <td>D016454:Review</td>\n",
       "      <td>Rituximab (monoclonal anti-CD20 antibody): mec...</td>\n",
       "      <td>14576843</td>\n",
       "    </tr>\n",
       "  </tbody>\n",
       "</table>\n",
       "</div>"
      ],
      "text/plain": [
       "                                            abstract mesh_terms  \\\n",
       "0  Rituximab, an anti-CD20 monoclonal antibody, i...              \n",
       "1  Background: Biosimilars are highly similar to ...              \n",
       "2  AIMS: Rituximab is standard care in a number o...              \n",
       "3  BACKGROUND: Studies in patients with rheumatoi...              \n",
       "4  Rituximab, a chimeric monoclonal antibody targ...              \n",
       "\n",
       "                                   publication_types  \\\n",
       "0                                     D016454:Review   \n",
       "1  'D016430:Clinical Trial; D016428:Journal Article'   \n",
       "2  'D016430:Clinical Trial; D016428:Journal Artic...   \n",
       "3  'D016430:Clinical Trial; D016428:Journal Artic...   \n",
       "4                                     D016454:Review   \n",
       "\n",
       "                                               title      pmid  \n",
       "0  Pharmacokinetics, efficacy and safety of the r...  28766389  \n",
       "1  A Randomized, Double-Blind, Efficacy and Safet...  31820339  \n",
       "2  Pharmacokinetics, exposure, efficacy and safet...  31050355  \n",
       "3  Efficacy, pharmacokinetics, and safety of the ...  28712940  \n",
       "4  Rituximab (monoclonal anti-CD20 antibody): mec...  14576843  "
      ]
     },
     "execution_count": 5,
     "metadata": {},
     "output_type": "execute_result"
    }
   ],
   "source": [
    "data.head(6)"
   ]
  },
  {
   "cell_type": "markdown",
   "metadata": {},
   "source": [
    "We included an example without mesh terms but one could include them as additional features in the same format as the subsets used for training/test."
   ]
  },
  {
   "cell_type": "code",
   "execution_count": 6,
   "metadata": {},
   "outputs": [],
   "source": [
    "pipeline_trained = joblib.load(\"../data/results/final-pipeline/optimal_pipeline.pkl\")"
   ]
  },
  {
   "cell_type": "code",
   "execution_count": 7,
   "metadata": {},
   "outputs": [],
   "source": [
    "pred_test = pipeline_trained.predict(data)"
   ]
  },
  {
   "cell_type": "code",
   "execution_count": 8,
   "metadata": {},
   "outputs": [
    {
     "data": {
      "text/plain": [
       "array(['Not Relevant', 'Not Relevant', 'Relevant', 'Relevant',\n",
       "       'Not Relevant'], dtype=object)"
      ]
     },
     "execution_count": 8,
     "metadata": {},
     "output_type": "execute_result"
    }
   ],
   "source": [
    "pred_test"
   ]
  },
  {
   "cell_type": "code",
   "execution_count": null,
   "metadata": {},
   "outputs": [],
   "source": []
  }
 ],
 "metadata": {
  "kernelspec": {
   "display_name": "Python 3",
   "language": "python",
   "name": "python3"
  },
  "language_info": {
   "codemirror_mode": {
    "name": "ipython",
    "version": 3
   },
   "file_extension": ".py",
   "mimetype": "text/x-python",
   "name": "python",
   "nbconvert_exporter": "python",
   "pygments_lexer": "ipython3",
   "version": "3.8.5"
  }
 },
 "nbformat": 4,
 "nbformat_minor": 4
}